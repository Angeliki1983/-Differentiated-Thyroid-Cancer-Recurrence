{
 "cells": [
  {
   "cell_type": "markdown",
   "metadata": {},
   "source": [
    "Many thanks to Shiva Borzooei and Aidin Tarokhian from Hamadan University of medical Sciences, who provided this datase .All information you can find at Shiva Borzooei\n",
    "\n",
    "https://archive.ics.uci.edu/dataset/915/differentiated+thyroid+cancer+recurrence\n",
    "\n",
    "Using this .csv file as part of my learning journey using Python for Data Analysis.\n",
    "\n"
   ]
  },
  {
   "cell_type": "code",
   "execution_count": 2,
   "metadata": {},
   "outputs": [],
   "source": [
    "import pandas as pd   \n",
    "import numpy as np\n",
    "import matplotlib.pyplot as plt\n"
   ]
  },
  {
   "cell_type": "markdown",
   "metadata": {},
   "source": [
    "Lets import the csv.file :"
   ]
  },
  {
   "cell_type": "code",
   "execution_count": 3,
   "metadata": {},
   "outputs": [
    {
     "data": {
      "text/html": [
       "<div>\n",
       "<style scoped>\n",
       "    .dataframe tbody tr th:only-of-type {\n",
       "        vertical-align: middle;\n",
       "    }\n",
       "\n",
       "    .dataframe tbody tr th {\n",
       "        vertical-align: top;\n",
       "    }\n",
       "\n",
       "    .dataframe thead th {\n",
       "        text-align: right;\n",
       "    }\n",
       "</style>\n",
       "<table border=\"1\" class=\"dataframe\">\n",
       "  <thead>\n",
       "    <tr style=\"text-align: right;\">\n",
       "      <th></th>\n",
       "      <th>Age</th>\n",
       "      <th>Gender</th>\n",
       "      <th>Smoking</th>\n",
       "      <th>Hx Smoking</th>\n",
       "      <th>Hx Radiothreapy</th>\n",
       "      <th>Thyroid Function</th>\n",
       "      <th>Physical Examination</th>\n",
       "      <th>Adenopathy</th>\n",
       "      <th>Pathology</th>\n",
       "      <th>Focality</th>\n",
       "      <th>Risk</th>\n",
       "      <th>T</th>\n",
       "      <th>N</th>\n",
       "      <th>M</th>\n",
       "      <th>Stage</th>\n",
       "      <th>Response</th>\n",
       "      <th>Recurred</th>\n",
       "    </tr>\n",
       "  </thead>\n",
       "  <tbody>\n",
       "    <tr>\n",
       "      <th>0</th>\n",
       "      <td>27</td>\n",
       "      <td>F</td>\n",
       "      <td>No</td>\n",
       "      <td>No</td>\n",
       "      <td>No</td>\n",
       "      <td>Euthyroid</td>\n",
       "      <td>Single nodular goiter-left</td>\n",
       "      <td>No</td>\n",
       "      <td>Micropapillary</td>\n",
       "      <td>Uni-Focal</td>\n",
       "      <td>Low</td>\n",
       "      <td>T1a</td>\n",
       "      <td>N0</td>\n",
       "      <td>M0</td>\n",
       "      <td>I</td>\n",
       "      <td>Indeterminate</td>\n",
       "      <td>No</td>\n",
       "    </tr>\n",
       "    <tr>\n",
       "      <th>1</th>\n",
       "      <td>34</td>\n",
       "      <td>F</td>\n",
       "      <td>No</td>\n",
       "      <td>Yes</td>\n",
       "      <td>No</td>\n",
       "      <td>Euthyroid</td>\n",
       "      <td>Multinodular goiter</td>\n",
       "      <td>No</td>\n",
       "      <td>Micropapillary</td>\n",
       "      <td>Uni-Focal</td>\n",
       "      <td>Low</td>\n",
       "      <td>T1a</td>\n",
       "      <td>N0</td>\n",
       "      <td>M0</td>\n",
       "      <td>I</td>\n",
       "      <td>Excellent</td>\n",
       "      <td>No</td>\n",
       "    </tr>\n",
       "    <tr>\n",
       "      <th>2</th>\n",
       "      <td>30</td>\n",
       "      <td>F</td>\n",
       "      <td>No</td>\n",
       "      <td>No</td>\n",
       "      <td>No</td>\n",
       "      <td>Euthyroid</td>\n",
       "      <td>Single nodular goiter-right</td>\n",
       "      <td>No</td>\n",
       "      <td>Micropapillary</td>\n",
       "      <td>Uni-Focal</td>\n",
       "      <td>Low</td>\n",
       "      <td>T1a</td>\n",
       "      <td>N0</td>\n",
       "      <td>M0</td>\n",
       "      <td>I</td>\n",
       "      <td>Excellent</td>\n",
       "      <td>No</td>\n",
       "    </tr>\n",
       "    <tr>\n",
       "      <th>3</th>\n",
       "      <td>62</td>\n",
       "      <td>F</td>\n",
       "      <td>No</td>\n",
       "      <td>No</td>\n",
       "      <td>No</td>\n",
       "      <td>Euthyroid</td>\n",
       "      <td>Single nodular goiter-right</td>\n",
       "      <td>No</td>\n",
       "      <td>Micropapillary</td>\n",
       "      <td>Uni-Focal</td>\n",
       "      <td>Low</td>\n",
       "      <td>T1a</td>\n",
       "      <td>N0</td>\n",
       "      <td>M0</td>\n",
       "      <td>I</td>\n",
       "      <td>Excellent</td>\n",
       "      <td>No</td>\n",
       "    </tr>\n",
       "    <tr>\n",
       "      <th>4</th>\n",
       "      <td>62</td>\n",
       "      <td>F</td>\n",
       "      <td>No</td>\n",
       "      <td>No</td>\n",
       "      <td>No</td>\n",
       "      <td>Euthyroid</td>\n",
       "      <td>Multinodular goiter</td>\n",
       "      <td>No</td>\n",
       "      <td>Micropapillary</td>\n",
       "      <td>Multi-Focal</td>\n",
       "      <td>Low</td>\n",
       "      <td>T1a</td>\n",
       "      <td>N0</td>\n",
       "      <td>M0</td>\n",
       "      <td>I</td>\n",
       "      <td>Excellent</td>\n",
       "      <td>No</td>\n",
       "    </tr>\n",
       "  </tbody>\n",
       "</table>\n",
       "</div>"
      ],
      "text/plain": [
       "   Age Gender Smoking Hx Smoking Hx Radiothreapy Thyroid Function  \\\n",
       "0   27      F      No         No              No        Euthyroid   \n",
       "1   34      F      No        Yes              No        Euthyroid   \n",
       "2   30      F      No         No              No        Euthyroid   \n",
       "3   62      F      No         No              No        Euthyroid   \n",
       "4   62      F      No         No              No        Euthyroid   \n",
       "\n",
       "          Physical Examination Adenopathy       Pathology     Focality Risk  \\\n",
       "0   Single nodular goiter-left         No  Micropapillary    Uni-Focal  Low   \n",
       "1          Multinodular goiter         No  Micropapillary    Uni-Focal  Low   \n",
       "2  Single nodular goiter-right         No  Micropapillary    Uni-Focal  Low   \n",
       "3  Single nodular goiter-right         No  Micropapillary    Uni-Focal  Low   \n",
       "4          Multinodular goiter         No  Micropapillary  Multi-Focal  Low   \n",
       "\n",
       "     T   N   M Stage       Response Recurred  \n",
       "0  T1a  N0  M0     I  Indeterminate       No  \n",
       "1  T1a  N0  M0     I      Excellent       No  \n",
       "2  T1a  N0  M0     I      Excellent       No  \n",
       "3  T1a  N0  M0     I      Excellent       No  \n",
       "4  T1a  N0  M0     I      Excellent       No  "
      ]
     },
     "execution_count": 3,
     "metadata": {},
     "output_type": "execute_result"
    }
   ],
   "source": [
    "\n",
    "# Corrected file path with .csv extension\n",
    "filepath = r\"C:\\Users\\User\\OneDrive\\Desktop\\Thyroid_Cancer_Analysis\\Thyroid_Diff.csv\"\n",
    "\n",
    "# Use the variable 'filepath' to read the CSV file\n",
    "df = pd.read_csv(filepath)\n",
    "\n",
    "# Display the first few rows of the DataFrame\n",
    "df.head(5)\n"
   ]
  },
  {
   "cell_type": "code",
   "execution_count": 4,
   "metadata": {},
   "outputs": [
    {
     "name": "stdout",
     "output_type": "stream",
     "text": [
      "<class 'pandas.core.frame.DataFrame'>\n",
      "RangeIndex: 383 entries, 0 to 382\n",
      "Data columns (total 17 columns):\n",
      " #   Column                Non-Null Count  Dtype \n",
      "---  ------                --------------  ----- \n",
      " 0   Age                   383 non-null    int64 \n",
      " 1   Gender                383 non-null    object\n",
      " 2   Smoking               383 non-null    object\n",
      " 3   Hx Smoking            383 non-null    object\n",
      " 4   Hx Radiothreapy       383 non-null    object\n",
      " 5   Thyroid Function      383 non-null    object\n",
      " 6   Physical Examination  383 non-null    object\n",
      " 7   Adenopathy            383 non-null    object\n",
      " 8   Pathology             383 non-null    object\n",
      " 9   Focality              383 non-null    object\n",
      " 10  Risk                  383 non-null    object\n",
      " 11  T                     383 non-null    object\n",
      " 12  N                     383 non-null    object\n",
      " 13  M                     383 non-null    object\n",
      " 14  Stage                 383 non-null    object\n",
      " 15  Response              383 non-null    object\n",
      " 16  Recurred              383 non-null    object\n",
      "dtypes: int64(1), object(16)\n",
      "memory usage: 51.0+ KB\n"
     ]
    }
   ],
   "source": [
    "df.info()"
   ]
  },
  {
   "cell_type": "markdown",
   "metadata": {},
   "source": [
    "No missing values in the Dataset."
   ]
  },
  {
   "cell_type": "markdown",
   "metadata": {},
   "source": [
    "#### QUESTIONS \n",
    "2. Is there any significant difference in cancer risk between male and female patients?\n",
    "3. How does smoking status affect the likelihood of different stages of thyroid cancer?\n",
    "4. Does a history of smoking impact the response to treatment?\n",
    "5. Is there a relationship between history of radiotherapy and cancer stage or type?\n",
    "6. How does thyroid function (euthyroid, hyperthyroid, hypothyroid) relate to the risk and stage of cancer?\n",
    "7. What is the frequency of single nodular goiter versus multinodular goiter among patients?\n",
    "8. Does the focality of the cancer (uni-focal vs. multi-focal) impact the stage or prognosis?\n",
    "9. Are there any patterns in pathology findings based on age or gender?\n",
    "10. How does the presence of adenopathy influence the stage of cancer?\n"
   ]
  },
  {
   "cell_type": "markdown",
   "metadata": {},
   "source": [
    "#### 1. What is the distribution of ages among patients? "
   ]
  },
  {
   "cell_type": "markdown",
   "metadata": {},
   "source": [
    "Here we need to understand how the ages of the patients are spead out or distributed. Are most of the patients young , middle aged or older? Are the ages spread out evenly or clustered in specific age ranges?\n",
    "\n",
    "1. First, we need to identify the Age data, as in the column that contains the age information and the extract the Age Data."
   ]
  },
  {
   "cell_type": "code",
   "execution_count": 5,
   "metadata": {},
   "outputs": [
    {
     "data": {
      "text/plain": [
       "0      27\n",
       "1      34\n",
       "2      30\n",
       "3      62\n",
       "4      62\n",
       "       ..\n",
       "378    72\n",
       "379    81\n",
       "380    72\n",
       "381    61\n",
       "382    67\n",
       "Name: Age, Length: 383, dtype: int64"
      ]
     },
     "execution_count": 5,
     "metadata": {},
     "output_type": "execute_result"
    }
   ],
   "source": [
    "# Extracting \"Age\" column :\n",
    "ages = df['Age']\n",
    "ages "
   ]
  },
  {
   "cell_type": "markdown",
   "metadata": {},
   "source": [
    "2. (Step a) We can use the value_counts() function to get the frequency of each age:"
   ]
  },
  {
   "cell_type": "code",
   "execution_count": 6,
   "metadata": {},
   "outputs": [],
   "source": [
    "age_counts = ages.value_counts()"
   ]
  },
  {
   "cell_type": "code",
   "execution_count": 7,
   "metadata": {},
   "outputs": [
    {
     "name": "stdout",
     "output_type": "stream",
     "text": [
      "Age\n",
      "31    22\n",
      "27    13\n",
      "40    12\n",
      "26    12\n",
      "28    12\n",
      "      ..\n",
      "79     1\n",
      "18     1\n",
      "69     1\n",
      "76     1\n",
      "78     1\n",
      "Name: count, Length: 65, dtype: int64\n"
     ]
    }
   ],
   "source": [
    "print(age_counts)"
   ]
  },
  {
   "cell_type": "markdown",
   "metadata": {},
   "source": [
    "2. (Step b) Basic Statistics Calculation "
   ]
  },
  {
   "cell_type": "code",
   "execution_count": 41,
   "metadata": {},
   "outputs": [
    {
     "name": "stdout",
     "output_type": "stream",
     "text": [
      "Minimum age is: 15\n",
      "Maximum age is: 82\n",
      "Mean age is: 40.866840731070496\n",
      "Median age is: 37.0\n",
      "Mode age is: 31\n"
     ]
    }
   ],
   "source": [
    "min_age = ages.min()\n",
    "max_age = ages.max()\n",
    "mean_age = ages.mean()\n",
    "median_age = ages.median()\n",
    "mode_age = ages.mode()[0] # Mode returns a series, so we take the first element-->The most frequent set in our DataBase\n",
    "\n",
    "print(f\"Minimum age is: {min_age}\")\n",
    "print(f\"Maximum age is: {max_age}\")\n",
    "print(f\"Mean age is: {mean_age}\")\n",
    "print(f\"Median age is: {median_age}\")\n",
    "print(f\"Mode age is: {mode_age}\")\n"
   ]
  },
  {
   "cell_type": "markdown",
   "metadata": {},
   "source": [
    "Learned/Notes :\n",
    "- Mode(): is the value that appears more frequently in a dataset and a dataset can have more than one mode if multiple values have the same highest frequency.\n",
    "- The output gives us Series object. If there is more than one mode, this Series will contain all modes.\n",
    "- Since mode() returns a Series, we need to access the first element to get the most common value. This is done using [0]."
   ]
  },
  {
   "cell_type": "markdown",
   "metadata": {},
   "source": [
    "2. (Step C) Creating a bar chart for age distribution"
   ]
  },
  {
   "attachments": {
    "image.png": {
     "image/png": "[encoded data removed]"
    }
   },
   "cell_type": "markdown",
   "metadata": {},
   "source": [
    "First Lets ensure we have matplotlib installed\n",
    "\n",
    "* Notes -----> pip show matplotlib (to check if Matplotlib is installed: command displayed information about the installed package) then ![image.png](attachment:image.png)\n"
   ]
  },
  {
   "cell_type": "markdown",
   "metadata": {},
   "source": [
    "2. (Step d): Plot the Data using Matplotlib---> More information found at https://www.geeksforgeeks.org/data-visualization-using-matplotlib/"
   ]
  },
  {
   "cell_type": "code",
   "execution_count": 9,
   "metadata": {},
   "outputs": [
    {
     "data": {
      "image/png": "[encoded data removed]",
      "text/plain": [
       "<Figure size 640x480 with 1 Axes>"
      ]
     },
     "metadata": {},
     "output_type": "display_data"
    }
   ],
   "source": [
    "# Creating a bar chart for Age distribution\n",
    "\n",
    "age_counts.plot(kind='bar')\n",
    "\n",
    "# set label for x Axis \n",
    "plt.xlabel(\"Age\")\n",
    "\n",
    "# Set label for y Axis \n",
    "plt.ylabel(\"Frequency\")\n",
    "\n",
    "# Adding title for hte chart\n",
    "plt.title(\"Patient Age Distribution\")\n",
    "\n",
    "#Display the plot\n",
    "\n",
    "plt.show()"
   ]
  },
  {
   "cell_type": "markdown",
   "metadata": {},
   "source": [
    "Notes/Learning\n",
    "\n",
    "- using plot() --->Creating different types of charts and specifying we want to use a bar chart by using \"kind=bar\"\n",
    "- setting the label for the x axis to \"Age\"\n",
    "- setting the label for the y axis to \"Frequency\""
   ]
  },
  {
   "cell_type": "markdown",
   "metadata": {},
   "source": [
    "As, we can see the plot is horrible \" x axis for age is not clear , ages numbers overlap and unable to read. One common solution I found was the to rotate the X axis labels \n",
    "\n",
    "#### # Create a bar chart for age distribution with rotated x-axis labels"
   ]
  },
  {
   "cell_type": "code",
   "execution_count": 10,
   "metadata": {},
   "outputs": [
    {
     "data": {
      "image/png": "[encoded data removed]",
      "text/plain": [
       "<Figure size 1000x800 with 1 Axes>"
      ]
     },
     "metadata": {},
     "output_type": "display_data"
    }
   ],
   "source": [
    "# Increase the figure size for better spacing \n",
    "plt.figure(figsize= (10,8))\n",
    "\n",
    "# Creating a bar chart for Age distribution\n",
    "\n",
    "age_counts.plot(kind='bar')\n",
    "\n",
    "# set label for x Axis \n",
    "plt.xlabel(\"Age\")\n",
    "\n",
    "# Set label for y Axis \n",
    "plt.ylabel(\"Frequency\")\n",
    "\n",
    "# Adding title for hte chart\n",
    "plt.title(\"Patient Age Distribution\")\n",
    "\n",
    "#Display the plot\n",
    "\n",
    "plt.show()"
   ]
  },
  {
   "cell_type": "code",
   "execution_count": 11,
   "metadata": {},
   "outputs": [
    {
     "data": {
      "text/plain": [
       "(383, 17)"
      ]
     },
     "execution_count": 11,
     "metadata": {},
     "output_type": "execute_result"
    }
   ],
   "source": [
    "df.shape"
   ]
  },
  {
   "cell_type": "markdown",
   "metadata": {},
   "source": [
    "Considering I have such a large dataset with 383 rows, maybe I should try a different plot. KDE plot is reccomended for a large number of different values providing a smooth representation of the distribution making it easier to see patterns and trends. Lets try it out :\n"
   ]
  },
  {
   "cell_type": "markdown",
   "metadata": {},
   "source": [
    "#### Trying out KDE plot for better visualisation "
   ]
  },
  {
   "cell_type": "code",
   "execution_count": 12,
   "metadata": {},
   "outputs": [],
   "source": [
    "import seaborn as sns #another data visualisation library based on Matplotlib"
   ]
  },
  {
   "cell_type": "code",
   "execution_count": 42,
   "metadata": {},
   "outputs": [
    {
     "data": {
      "image/png": "[encoded data removed]",
      "text/plain": [
       "<Figure size 1200x600 with 1 Axes>"
      ]
     },
     "metadata": {},
     "output_type": "display_data"
    }
   ],
   "source": [
    "# Create KDE plot\n",
    "plt.figure(figsize=(12, 6))\n",
    "sns.kdeplot(ages, fill=True)\n",
    "plt.title('Age Distribution')\n",
    "plt.xlabel('Ages')\n",
    "plt.ylabel('Frequency')\n",
    "plt.show()"
   ]
  },
  {
   "cell_type": "markdown",
   "metadata": {},
   "source": [
    "Still not happy ---> Annotate the KDE plot with vertical lines indicate positions of the minimum, maximum, mean, median, and mode ages. The bar above is not so clear.."
   ]
  },
  {
   "cell_type": "code",
   "execution_count": 14,
   "metadata": {},
   "outputs": [
    {
     "data": {
      "image/png": "[encoded data removed]",
      "text/plain": [
       "<Figure size 640x480 with 1 Axes>"
      ]
     },
     "metadata": {},
     "output_type": "display_data"
    }
   ],
   "source": [
    "plt.axvline(min_age, color='r', linestyle='--', label=f'Min Age: {min_age}')\n",
    "plt.axvline(max_age, color='g', linestyle='--', label=f'Max Age: {max_age}')\n",
    "plt.axvline(mean_age, color='b', linestyle='--', label=f'Mean Age: {mean_age:.2f}')\n",
    "plt.axvline(median_age, color='y', linestyle='--', label=f'Median Age: {median_age}')\n",
    "plt.axvline(mode_age, color='m', linestyle='--', label=f'Mode Age: {mode_age}')\n",
    "plt.legend()\n",
    "\n",
    "plt.show()"
   ]
  },
  {
   "cell_type": "markdown",
   "metadata": {},
   "source": [
    "###  Notes/Learn \n",
    "\n",
    "##### Adding vertical lines to KDE plot to indicate key statistics, help to visually identify these statistics\n",
    "\n",
    "\n",
    "- plt.axvline(min_age, ...): Adds a vertical line at the x-coordinate corresponding to min_age.\n",
    "- color='r': The color of the line is red.\n",
    "- linestyle='--': The line is dashed.\n",
    "- label=f'Min Age: {min_age}': The label for the legend, showing the value of the min/max/median etc. age.\n",
    "- legend () ---> labels specified for each vertical line, makes it easier to identify which line represents."
   ]
  },
  {
   "cell_type": "markdown",
   "metadata": {},
   "source": [
    "### 12. What is the relationship between physical examination findings and cancer stage or risk?\n"
   ]
  },
  {
   "cell_type": "markdown",
   "metadata": {},
   "source": [
    "Displaying the first 10 lines of the dataframe in order to understand the structure and contents :"
   ]
  },
  {
   "cell_type": "code",
   "execution_count": 15,
   "metadata": {},
   "outputs": [
    {
     "data": {
      "text/html": [
       "<div>\n",
       "<style scoped>\n",
       "    .dataframe tbody tr th:only-of-type {\n",
       "        vertical-align: middle;\n",
       "    }\n",
       "\n",
       "    .dataframe tbody tr th {\n",
       "        vertical-align: top;\n",
       "    }\n",
       "\n",
       "    .dataframe thead th {\n",
       "        text-align: right;\n",
       "    }\n",
       "</style>\n",
       "<table border=\"1\" class=\"dataframe\">\n",
       "  <thead>\n",
       "    <tr style=\"text-align: right;\">\n",
       "      <th></th>\n",
       "      <th>Age</th>\n",
       "      <th>Gender</th>\n",
       "      <th>Smoking</th>\n",
       "      <th>Hx Smoking</th>\n",
       "      <th>Hx Radiothreapy</th>\n",
       "      <th>Thyroid Function</th>\n",
       "      <th>Physical Examination</th>\n",
       "      <th>Adenopathy</th>\n",
       "      <th>Pathology</th>\n",
       "      <th>Focality</th>\n",
       "      <th>Risk</th>\n",
       "      <th>T</th>\n",
       "      <th>N</th>\n",
       "      <th>M</th>\n",
       "      <th>Stage</th>\n",
       "      <th>Response</th>\n",
       "      <th>Recurred</th>\n",
       "    </tr>\n",
       "  </thead>\n",
       "  <tbody>\n",
       "    <tr>\n",
       "      <th>0</th>\n",
       "      <td>27</td>\n",
       "      <td>F</td>\n",
       "      <td>No</td>\n",
       "      <td>No</td>\n",
       "      <td>No</td>\n",
       "      <td>Euthyroid</td>\n",
       "      <td>Single nodular goiter-left</td>\n",
       "      <td>No</td>\n",
       "      <td>Micropapillary</td>\n",
       "      <td>Uni-Focal</td>\n",
       "      <td>Low</td>\n",
       "      <td>T1a</td>\n",
       "      <td>N0</td>\n",
       "      <td>M0</td>\n",
       "      <td>I</td>\n",
       "      <td>Indeterminate</td>\n",
       "      <td>No</td>\n",
       "    </tr>\n",
       "    <tr>\n",
       "      <th>1</th>\n",
       "      <td>34</td>\n",
       "      <td>F</td>\n",
       "      <td>No</td>\n",
       "      <td>Yes</td>\n",
       "      <td>No</td>\n",
       "      <td>Euthyroid</td>\n",
       "      <td>Multinodular goiter</td>\n",
       "      <td>No</td>\n",
       "      <td>Micropapillary</td>\n",
       "      <td>Uni-Focal</td>\n",
       "      <td>Low</td>\n",
       "      <td>T1a</td>\n",
       "      <td>N0</td>\n",
       "      <td>M0</td>\n",
       "      <td>I</td>\n",
       "      <td>Excellent</td>\n",
       "      <td>No</td>\n",
       "    </tr>\n",
       "    <tr>\n",
       "      <th>2</th>\n",
       "      <td>30</td>\n",
       "      <td>F</td>\n",
       "      <td>No</td>\n",
       "      <td>No</td>\n",
       "      <td>No</td>\n",
       "      <td>Euthyroid</td>\n",
       "      <td>Single nodular goiter-right</td>\n",
       "      <td>No</td>\n",
       "      <td>Micropapillary</td>\n",
       "      <td>Uni-Focal</td>\n",
       "      <td>Low</td>\n",
       "      <td>T1a</td>\n",
       "      <td>N0</td>\n",
       "      <td>M0</td>\n",
       "      <td>I</td>\n",
       "      <td>Excellent</td>\n",
       "      <td>No</td>\n",
       "    </tr>\n",
       "    <tr>\n",
       "      <th>3</th>\n",
       "      <td>62</td>\n",
       "      <td>F</td>\n",
       "      <td>No</td>\n",
       "      <td>No</td>\n",
       "      <td>No</td>\n",
       "      <td>Euthyroid</td>\n",
       "      <td>Single nodular goiter-right</td>\n",
       "      <td>No</td>\n",
       "      <td>Micropapillary</td>\n",
       "      <td>Uni-Focal</td>\n",
       "      <td>Low</td>\n",
       "      <td>T1a</td>\n",
       "      <td>N0</td>\n",
       "      <td>M0</td>\n",
       "      <td>I</td>\n",
       "      <td>Excellent</td>\n",
       "      <td>No</td>\n",
       "    </tr>\n",
       "    <tr>\n",
       "      <th>4</th>\n",
       "      <td>62</td>\n",
       "      <td>F</td>\n",
       "      <td>No</td>\n",
       "      <td>No</td>\n",
       "      <td>No</td>\n",
       "      <td>Euthyroid</td>\n",
       "      <td>Multinodular goiter</td>\n",
       "      <td>No</td>\n",
       "      <td>Micropapillary</td>\n",
       "      <td>Multi-Focal</td>\n",
       "      <td>Low</td>\n",
       "      <td>T1a</td>\n",
       "      <td>N0</td>\n",
       "      <td>M0</td>\n",
       "      <td>I</td>\n",
       "      <td>Excellent</td>\n",
       "      <td>No</td>\n",
       "    </tr>\n",
       "    <tr>\n",
       "      <th>5</th>\n",
       "      <td>52</td>\n",
       "      <td>M</td>\n",
       "      <td>Yes</td>\n",
       "      <td>No</td>\n",
       "      <td>No</td>\n",
       "      <td>Euthyroid</td>\n",
       "      <td>Multinodular goiter</td>\n",
       "      <td>No</td>\n",
       "      <td>Micropapillary</td>\n",
       "      <td>Multi-Focal</td>\n",
       "      <td>Low</td>\n",
       "      <td>T1a</td>\n",
       "      <td>N0</td>\n",
       "      <td>M0</td>\n",
       "      <td>I</td>\n",
       "      <td>Indeterminate</td>\n",
       "      <td>No</td>\n",
       "    </tr>\n",
       "    <tr>\n",
       "      <th>6</th>\n",
       "      <td>41</td>\n",
       "      <td>F</td>\n",
       "      <td>No</td>\n",
       "      <td>Yes</td>\n",
       "      <td>No</td>\n",
       "      <td>Clinical Hyperthyroidism</td>\n",
       "      <td>Single nodular goiter-right</td>\n",
       "      <td>No</td>\n",
       "      <td>Micropapillary</td>\n",
       "      <td>Uni-Focal</td>\n",
       "      <td>Low</td>\n",
       "      <td>T1a</td>\n",
       "      <td>N0</td>\n",
       "      <td>M0</td>\n",
       "      <td>I</td>\n",
       "      <td>Excellent</td>\n",
       "      <td>No</td>\n",
       "    </tr>\n",
       "    <tr>\n",
       "      <th>7</th>\n",
       "      <td>46</td>\n",
       "      <td>F</td>\n",
       "      <td>No</td>\n",
       "      <td>No</td>\n",
       "      <td>No</td>\n",
       "      <td>Euthyroid</td>\n",
       "      <td>Single nodular goiter-right</td>\n",
       "      <td>No</td>\n",
       "      <td>Micropapillary</td>\n",
       "      <td>Uni-Focal</td>\n",
       "      <td>Low</td>\n",
       "      <td>T1a</td>\n",
       "      <td>N0</td>\n",
       "      <td>M0</td>\n",
       "      <td>I</td>\n",
       "      <td>Excellent</td>\n",
       "      <td>No</td>\n",
       "    </tr>\n",
       "    <tr>\n",
       "      <th>8</th>\n",
       "      <td>51</td>\n",
       "      <td>F</td>\n",
       "      <td>No</td>\n",
       "      <td>No</td>\n",
       "      <td>No</td>\n",
       "      <td>Euthyroid</td>\n",
       "      <td>Single nodular goiter-right</td>\n",
       "      <td>No</td>\n",
       "      <td>Micropapillary</td>\n",
       "      <td>Uni-Focal</td>\n",
       "      <td>Low</td>\n",
       "      <td>T1a</td>\n",
       "      <td>N0</td>\n",
       "      <td>M0</td>\n",
       "      <td>I</td>\n",
       "      <td>Excellent</td>\n",
       "      <td>No</td>\n",
       "    </tr>\n",
       "    <tr>\n",
       "      <th>9</th>\n",
       "      <td>40</td>\n",
       "      <td>F</td>\n",
       "      <td>No</td>\n",
       "      <td>No</td>\n",
       "      <td>No</td>\n",
       "      <td>Euthyroid</td>\n",
       "      <td>Single nodular goiter-right</td>\n",
       "      <td>No</td>\n",
       "      <td>Micropapillary</td>\n",
       "      <td>Uni-Focal</td>\n",
       "      <td>Low</td>\n",
       "      <td>T1a</td>\n",
       "      <td>N0</td>\n",
       "      <td>M0</td>\n",
       "      <td>I</td>\n",
       "      <td>Excellent</td>\n",
       "      <td>No</td>\n",
       "    </tr>\n",
       "  </tbody>\n",
       "</table>\n",
       "</div>"
      ],
      "text/plain": [
       "   Age Gender Smoking Hx Smoking Hx Radiothreapy          Thyroid Function  \\\n",
       "0   27      F      No         No              No                 Euthyroid   \n",
       "1   34      F      No        Yes              No                 Euthyroid   \n",
       "2   30      F      No         No              No                 Euthyroid   \n",
       "3   62      F      No         No              No                 Euthyroid   \n",
       "4   62      F      No         No              No                 Euthyroid   \n",
       "5   52      M     Yes         No              No                 Euthyroid   \n",
       "6   41      F      No        Yes              No  Clinical Hyperthyroidism   \n",
       "7   46      F      No         No              No                 Euthyroid   \n",
       "8   51      F      No         No              No                 Euthyroid   \n",
       "9   40      F      No         No              No                 Euthyroid   \n",
       "\n",
       "          Physical Examination Adenopathy       Pathology     Focality Risk  \\\n",
       "0   Single nodular goiter-left         No  Micropapillary    Uni-Focal  Low   \n",
       "1          Multinodular goiter         No  Micropapillary    Uni-Focal  Low   \n",
       "2  Single nodular goiter-right         No  Micropapillary    Uni-Focal  Low   \n",
       "3  Single nodular goiter-right         No  Micropapillary    Uni-Focal  Low   \n",
       "4          Multinodular goiter         No  Micropapillary  Multi-Focal  Low   \n",
       "5          Multinodular goiter         No  Micropapillary  Multi-Focal  Low   \n",
       "6  Single nodular goiter-right         No  Micropapillary    Uni-Focal  Low   \n",
       "7  Single nodular goiter-right         No  Micropapillary    Uni-Focal  Low   \n",
       "8  Single nodular goiter-right         No  Micropapillary    Uni-Focal  Low   \n",
       "9  Single nodular goiter-right         No  Micropapillary    Uni-Focal  Low   \n",
       "\n",
       "     T   N   M Stage       Response Recurred  \n",
       "0  T1a  N0  M0     I  Indeterminate       No  \n",
       "1  T1a  N0  M0     I      Excellent       No  \n",
       "2  T1a  N0  M0     I      Excellent       No  \n",
       "3  T1a  N0  M0     I      Excellent       No  \n",
       "4  T1a  N0  M0     I      Excellent       No  \n",
       "5  T1a  N0  M0     I  Indeterminate       No  \n",
       "6  T1a  N0  M0     I      Excellent       No  \n",
       "7  T1a  N0  M0     I      Excellent       No  \n",
       "8  T1a  N0  M0     I      Excellent       No  \n",
       "9  T1a  N0  M0     I      Excellent       No  "
      ]
     },
     "execution_count": 15,
     "metadata": {},
     "output_type": "execute_result"
    }
   ],
   "source": [
    "df.head(10)"
   ]
  },
  {
   "cell_type": "markdown",
   "metadata": {},
   "source": [
    "Isolate the neccessary columns :"
   ]
  },
  {
   "cell_type": "code",
   "execution_count": 16,
   "metadata": {},
   "outputs": [
    {
     "data": {
      "text/html": [
       "<div>\n",
       "<style scoped>\n",
       "    .dataframe tbody tr th:only-of-type {\n",
       "        vertical-align: middle;\n",
       "    }\n",
       "\n",
       "    .dataframe tbody tr th {\n",
       "        vertical-align: top;\n",
       "    }\n",
       "\n",
       "    .dataframe thead th {\n",
       "        text-align: right;\n",
       "    }\n",
       "</style>\n",
       "<table border=\"1\" class=\"dataframe\">\n",
       "  <thead>\n",
       "    <tr style=\"text-align: right;\">\n",
       "      <th></th>\n",
       "      <th>Physical Examination</th>\n",
       "      <th>Stage</th>\n",
       "    </tr>\n",
       "  </thead>\n",
       "  <tbody>\n",
       "    <tr>\n",
       "      <th>0</th>\n",
       "      <td>Single nodular goiter-left</td>\n",
       "      <td>I</td>\n",
       "    </tr>\n",
       "    <tr>\n",
       "      <th>1</th>\n",
       "      <td>Multinodular goiter</td>\n",
       "      <td>I</td>\n",
       "    </tr>\n",
       "    <tr>\n",
       "      <th>2</th>\n",
       "      <td>Single nodular goiter-right</td>\n",
       "      <td>I</td>\n",
       "    </tr>\n",
       "    <tr>\n",
       "      <th>3</th>\n",
       "      <td>Single nodular goiter-right</td>\n",
       "      <td>I</td>\n",
       "    </tr>\n",
       "    <tr>\n",
       "      <th>4</th>\n",
       "      <td>Multinodular goiter</td>\n",
       "      <td>I</td>\n",
       "    </tr>\n",
       "    <tr>\n",
       "      <th>...</th>\n",
       "      <td>...</td>\n",
       "      <td>...</td>\n",
       "    </tr>\n",
       "    <tr>\n",
       "      <th>378</th>\n",
       "      <td>Single nodular goiter-right</td>\n",
       "      <td>IVB</td>\n",
       "    </tr>\n",
       "    <tr>\n",
       "      <th>379</th>\n",
       "      <td>Multinodular goiter</td>\n",
       "      <td>IVB</td>\n",
       "    </tr>\n",
       "    <tr>\n",
       "      <th>380</th>\n",
       "      <td>Multinodular goiter</td>\n",
       "      <td>IVB</td>\n",
       "    </tr>\n",
       "    <tr>\n",
       "      <th>381</th>\n",
       "      <td>Multinodular goiter</td>\n",
       "      <td>IVA</td>\n",
       "    </tr>\n",
       "    <tr>\n",
       "      <th>382</th>\n",
       "      <td>Multinodular goiter</td>\n",
       "      <td>IVA</td>\n",
       "    </tr>\n",
       "  </tbody>\n",
       "</table>\n",
       "<p>383 rows × 2 columns</p>\n",
       "</div>"
      ],
      "text/plain": [
       "            Physical Examination Stage\n",
       "0     Single nodular goiter-left     I\n",
       "1            Multinodular goiter     I\n",
       "2    Single nodular goiter-right     I\n",
       "3    Single nodular goiter-right     I\n",
       "4            Multinodular goiter     I\n",
       "..                           ...   ...\n",
       "378  Single nodular goiter-right   IVB\n",
       "379          Multinodular goiter   IVB\n",
       "380          Multinodular goiter   IVB\n",
       "381          Multinodular goiter   IVA\n",
       "382          Multinodular goiter   IVA\n",
       "\n",
       "[383 rows x 2 columns]"
      ]
     },
     "execution_count": 16,
     "metadata": {},
     "output_type": "execute_result"
    }
   ],
   "source": [
    "df[['Physical Examination', 'Stage' ]]"
   ]
  },
  {
   "cell_type": "markdown",
   "metadata": {},
   "source": [
    "How can I find all the different types of Stages of cancer in column \"Stage\"? Unique Values?Value_counts?"
   ]
  },
  {
   "cell_type": "markdown",
   "metadata": {},
   "source": [
    "There are several different types of cancer, however in our dataframe I need to find the ones that are related to Thyroid Cancer. I am discovering which types of cancer are related to Thyroid using unique() method:"
   ]
  },
  {
   "cell_type": "code",
   "execution_count": 17,
   "metadata": {},
   "outputs": [
    {
     "name": "stdout",
     "output_type": "stream",
     "text": [
      "Stages of cancer found in Thyroid gland: ['I' 'II' 'IVB' 'III' 'IVA']\n"
     ]
    }
   ],
   "source": [
    "cancer_stages = df['Stage'].unique()\n",
    "print(f\"Stages of cancer found in Thyroid gland: {cancer_stages}\")"
   ]
  },
  {
   "cell_type": "code",
   "execution_count": 18,
   "metadata": {},
   "outputs": [
    {
     "name": "stdout",
     "output_type": "stream",
     "text": [
      "Stage\n",
      "I      333\n",
      "II      32\n",
      "IVB     11\n",
      "III      4\n",
      "IVA      3\n",
      "Name: count, dtype: int64\n"
     ]
    }
   ],
   "source": [
    "count_stage_frequence = df['Stage'].value_counts()\n",
    "print(count_stage_frequence)"
   ]
  },
  {
   "cell_type": "code",
   "execution_count": 19,
   "metadata": {},
   "outputs": [
    {
     "name": "stdout",
     "output_type": "stream",
     "text": [
      "Different types of physical examination: ['Single nodular goiter-left' 'Multinodular goiter'\n",
      " 'Single nodular goiter-right' 'Normal' 'Diffuse goiter']\n"
     ]
    }
   ],
   "source": [
    "types_of_examination = df['Physical Examination'].unique()\n",
    "print(f\"Different types of physical examination: {types_of_examination}\")"
   ]
  },
  {
   "cell_type": "markdown",
   "metadata": {},
   "source": [
    "This will show the count of each physical examination finding within each stage:"
   ]
  },
  {
   "cell_type": "code",
   "execution_count": 20,
   "metadata": {},
   "outputs": [
    {
     "name": "stdout",
     "output_type": "stream",
     "text": [
      "           Physical Examination Stage  Count\n",
      "0                Diffuse goiter     I      7\n",
      "1           Multinodular goiter     I    115\n",
      "2           Multinodular goiter    II     14\n",
      "3           Multinodular goiter   III      2\n",
      "4           Multinodular goiter   IVA      3\n",
      "5           Multinodular goiter   IVB      6\n",
      "6                        Normal     I      7\n",
      "7    Single nodular goiter-left     I     76\n",
      "8    Single nodular goiter-left    II      9\n",
      "9    Single nodular goiter-left   III      1\n",
      "10   Single nodular goiter-left   IVB      3\n",
      "11  Single nodular goiter-right     I    128\n",
      "12  Single nodular goiter-right    II      9\n",
      "13  Single nodular goiter-right   III      1\n",
      "14  Single nodular goiter-right   IVB      2\n"
     ]
    }
   ],
   "source": [
    "grouped_data = df.groupby(['Physical Examination', 'Stage']).size().reset_index(name='Count')\n",
    "print(grouped_data)"
   ]
  },
  {
   "cell_type": "markdown",
   "metadata": {},
   "source": [
    "Using a bar plot to visualize the counts can help us identify any relationships:"
   ]
  },
  {
   "cell_type": "code",
   "execution_count": 21,
   "metadata": {},
   "outputs": [
    {
     "data": {
      "image/png": "[encoded data removed]",
      "text/plain": [
       "<Figure size 1200x600 with 1 Axes>"
      ]
     },
     "metadata": {},
     "output_type": "display_data"
    }
   ],
   "source": [
    "plt.figure(figsize=(12, 6))\n",
    "sns.countplot(data=df, x='Stage', hue='Physical Examination')\n",
    "plt.title('Relationship between Physical Examination Findings and Cancer Stage')\n",
    "plt.xlabel('Cancer Stage')\n",
    "plt.ylabel('Count')\n",
    "plt.legend(title='Physical Examination')\n",
    "plt.show()"
   ]
  },
  {
   "cell_type": "markdown",
   "metadata": {},
   "source": [
    "#### Interpretation of data grouping and visualisations :\n",
    "Patterns found  : \n",
    "\n",
    "- Whether certain physical examination findings are more common in early or late stages.\n",
    "- If any specific finding is strongly associated with a particular stage.\n",
    "\n",
    "##### Example Output Interpretation\n",
    "\n",
    "- Single nodular goiter-left appears only in Stage I.\n",
    "-  Multinodular goiter appears in Stages I, IVA, and IVB.\n",
    "- Single nodular goiter-right appears in both Stage I and Stage IVB.\n",
    "\n",
    "#### Conclusion\n",
    "Based on the analysis, we can draw conclusions such as:\n",
    "\n",
    "1. Single nodular goiter-left might be an early-stage finding.\n",
    "2. Multinodular goiter spans both early and late stages, indicating it could be present throughout the disease's progression.\n",
    "3. Single nodular goiter-right appears in both early and advanced stages, suggesting its presence might not be limited to a specific stage.\n",
    "\n",
    "This analysis helps in understanding how physical examination findings correlate with cancer stages, which can be crucial for diagnosis and treatment planning."
   ]
  },
  {
   "cell_type": "markdown",
   "metadata": {},
   "source": [
    "###  Does age correlate with the stage of thyroid cancer?\n"
   ]
  },
  {
   "cell_type": "code",
   "execution_count": 22,
   "metadata": {},
   "outputs": [
    {
     "data": {
      "text/html": [
       "<div>\n",
       "<style scoped>\n",
       "    .dataframe tbody tr th:only-of-type {\n",
       "        vertical-align: middle;\n",
       "    }\n",
       "\n",
       "    .dataframe tbody tr th {\n",
       "        vertical-align: top;\n",
       "    }\n",
       "\n",
       "    .dataframe thead th {\n",
       "        text-align: right;\n",
       "    }\n",
       "</style>\n",
       "<table border=\"1\" class=\"dataframe\">\n",
       "  <thead>\n",
       "    <tr style=\"text-align: right;\">\n",
       "      <th></th>\n",
       "      <th>Age</th>\n",
       "      <th>Stage</th>\n",
       "    </tr>\n",
       "  </thead>\n",
       "  <tbody>\n",
       "    <tr>\n",
       "      <th>0</th>\n",
       "      <td>27</td>\n",
       "      <td>I</td>\n",
       "    </tr>\n",
       "    <tr>\n",
       "      <th>1</th>\n",
       "      <td>34</td>\n",
       "      <td>I</td>\n",
       "    </tr>\n",
       "    <tr>\n",
       "      <th>2</th>\n",
       "      <td>30</td>\n",
       "      <td>I</td>\n",
       "    </tr>\n",
       "    <tr>\n",
       "      <th>3</th>\n",
       "      <td>62</td>\n",
       "      <td>I</td>\n",
       "    </tr>\n",
       "    <tr>\n",
       "      <th>4</th>\n",
       "      <td>62</td>\n",
       "      <td>I</td>\n",
       "    </tr>\n",
       "    <tr>\n",
       "      <th>...</th>\n",
       "      <td>...</td>\n",
       "      <td>...</td>\n",
       "    </tr>\n",
       "    <tr>\n",
       "      <th>378</th>\n",
       "      <td>72</td>\n",
       "      <td>IVB</td>\n",
       "    </tr>\n",
       "    <tr>\n",
       "      <th>379</th>\n",
       "      <td>81</td>\n",
       "      <td>IVB</td>\n",
       "    </tr>\n",
       "    <tr>\n",
       "      <th>380</th>\n",
       "      <td>72</td>\n",
       "      <td>IVB</td>\n",
       "    </tr>\n",
       "    <tr>\n",
       "      <th>381</th>\n",
       "      <td>61</td>\n",
       "      <td>IVA</td>\n",
       "    </tr>\n",
       "    <tr>\n",
       "      <th>382</th>\n",
       "      <td>67</td>\n",
       "      <td>IVA</td>\n",
       "    </tr>\n",
       "  </tbody>\n",
       "</table>\n",
       "<p>383 rows × 2 columns</p>\n",
       "</div>"
      ],
      "text/plain": [
       "     Age Stage\n",
       "0     27     I\n",
       "1     34     I\n",
       "2     30     I\n",
       "3     62     I\n",
       "4     62     I\n",
       "..   ...   ...\n",
       "378   72   IVB\n",
       "379   81   IVB\n",
       "380   72   IVB\n",
       "381   61   IVA\n",
       "382   67   IVA\n",
       "\n",
       "[383 rows x 2 columns]"
      ]
     },
     "execution_count": 22,
     "metadata": {},
     "output_type": "execute_result"
    }
   ],
   "source": [
    "df[['Age', 'Stage']]"
   ]
  },
  {
   "cell_type": "code",
   "execution_count": 24,
   "metadata": {},
   "outputs": [
    {
     "name": "stdout",
     "output_type": "stream",
     "text": [
      "   Stage  Age  Count\n",
      "0      I   15      1\n",
      "1      I   17      3\n",
      "2      I   18      1\n",
      "3      I   19      2\n",
      "4      I   20      6\n",
      "..   ...  ...    ...\n",
      "89   IVB   72      2\n",
      "90   IVB   73      1\n",
      "91   IVB   75      1\n",
      "92   IVB   78      1\n",
      "93   IVB   81      1\n",
      "\n",
      "[94 rows x 3 columns]\n"
     ]
    }
   ],
   "source": [
    "grouped_age_data = df.groupby(['Stage', 'Age']).size().reset_index(name='Count')\n",
    "print(grouped_age_data)"
   ]
  },
  {
   "cell_type": "code",
   "execution_count": 37,
   "metadata": {},
   "outputs": [
    {
     "data": {
      "image/png": "[encoded data removed]",
      "text/plain": [
       "<Figure size 1800x800 with 1 Axes>"
      ]
     },
     "metadata": {},
     "output_type": "display_data"
    }
   ],
   "source": [
    "plt.figure(figsize=(18, 8))\n",
    "sns.countplot(data=df, x='Stage', hue='Age')\n",
    "plt.title('Relationship between cancer Stage and Age')\n",
    "plt.xlabel('Cancer Stage')\n",
    "plt.ylabel('Count')\n",
    "plt.legend(title='Age')\n",
    "plt.show()"
   ]
  },
  {
   "cell_type": "markdown",
   "metadata": {},
   "source": [
    "Age is a continuous variable, therefore using countplot with hue='Age' does not work as intended. ]To make the plot more meaningful and  the age data more manageable, we can bin the ages into groups (e.g., 0-20, 21-40, etc.):"
   ]
  },
  {
   "cell_type": "code",
   "execution_count": 26,
   "metadata": {},
   "outputs": [],
   "source": [
    "#Bin the ages into categories\n",
    "\n",
    "age_bins = [0, 20, 40, 60, 80, 100]\n",
    "age_labels = ['0-20', '21-40', '41-60', '61-80', '81-100']\n"
   ]
  },
  {
   "cell_type": "markdown",
   "metadata": {},
   "source": [
    "- Age binning : We use the pd.cut function to bin continuous age values into discreet age groups\n",
    "\n"
   ]
  },
  {
   "cell_type": "code",
   "execution_count": 29,
   "metadata": {},
   "outputs": [],
   "source": [
    "df['Age Group'] = pd.cut(df['Age'], bins =age_bins, labels = age_labels, right= True)\n"
   ]
  },
  {
   "cell_type": "code",
   "execution_count": 40,
   "metadata": {},
   "outputs": [
    {
     "data": {
      "text/html": [
       "<div>\n",
       "<style scoped>\n",
       "    .dataframe tbody tr th:only-of-type {\n",
       "        vertical-align: middle;\n",
       "    }\n",
       "\n",
       "    .dataframe tbody tr th {\n",
       "        vertical-align: top;\n",
       "    }\n",
       "\n",
       "    .dataframe thead th {\n",
       "        text-align: right;\n",
       "    }\n",
       "</style>\n",
       "<table border=\"1\" class=\"dataframe\">\n",
       "  <thead>\n",
       "    <tr style=\"text-align: right;\">\n",
       "      <th></th>\n",
       "      <th>Age Group</th>\n",
       "      <th>Stage</th>\n",
       "      <th>Count</th>\n",
       "    </tr>\n",
       "  </thead>\n",
       "  <tbody>\n",
       "    <tr>\n",
       "      <th>0</th>\n",
       "      <td>0-20</td>\n",
       "      <td>I</td>\n",
       "      <td>13</td>\n",
       "    </tr>\n",
       "    <tr>\n",
       "      <th>1</th>\n",
       "      <td>0-20</td>\n",
       "      <td>II</td>\n",
       "      <td>0</td>\n",
       "    </tr>\n",
       "    <tr>\n",
       "      <th>2</th>\n",
       "      <td>0-20</td>\n",
       "      <td>III</td>\n",
       "      <td>0</td>\n",
       "    </tr>\n",
       "    <tr>\n",
       "      <th>3</th>\n",
       "      <td>0-20</td>\n",
       "      <td>IVA</td>\n",
       "      <td>0</td>\n",
       "    </tr>\n",
       "    <tr>\n",
       "      <th>4</th>\n",
       "      <td>0-20</td>\n",
       "      <td>IVB</td>\n",
       "      <td>0</td>\n",
       "    </tr>\n",
       "    <tr>\n",
       "      <th>5</th>\n",
       "      <td>21-40</td>\n",
       "      <td>I</td>\n",
       "      <td>203</td>\n",
       "    </tr>\n",
       "    <tr>\n",
       "      <th>6</th>\n",
       "      <td>21-40</td>\n",
       "      <td>II</td>\n",
       "      <td>4</td>\n",
       "    </tr>\n",
       "    <tr>\n",
       "      <th>7</th>\n",
       "      <td>21-40</td>\n",
       "      <td>III</td>\n",
       "      <td>0</td>\n",
       "    </tr>\n",
       "    <tr>\n",
       "      <th>8</th>\n",
       "      <td>21-40</td>\n",
       "      <td>IVA</td>\n",
       "      <td>0</td>\n",
       "    </tr>\n",
       "    <tr>\n",
       "      <th>9</th>\n",
       "      <td>21-40</td>\n",
       "      <td>IVB</td>\n",
       "      <td>0</td>\n",
       "    </tr>\n",
       "    <tr>\n",
       "      <th>10</th>\n",
       "      <td>41-60</td>\n",
       "      <td>I</td>\n",
       "      <td>97</td>\n",
       "    </tr>\n",
       "    <tr>\n",
       "      <th>11</th>\n",
       "      <td>41-60</td>\n",
       "      <td>II</td>\n",
       "      <td>13</td>\n",
       "    </tr>\n",
       "    <tr>\n",
       "      <th>12</th>\n",
       "      <td>41-60</td>\n",
       "      <td>III</td>\n",
       "      <td>0</td>\n",
       "    </tr>\n",
       "    <tr>\n",
       "      <th>13</th>\n",
       "      <td>41-60</td>\n",
       "      <td>IVA</td>\n",
       "      <td>0</td>\n",
       "    </tr>\n",
       "    <tr>\n",
       "      <th>14</th>\n",
       "      <td>41-60</td>\n",
       "      <td>IVB</td>\n",
       "      <td>1</td>\n",
       "    </tr>\n",
       "    <tr>\n",
       "      <th>15</th>\n",
       "      <td>61-80</td>\n",
       "      <td>I</td>\n",
       "      <td>20</td>\n",
       "    </tr>\n",
       "    <tr>\n",
       "      <th>16</th>\n",
       "      <td>61-80</td>\n",
       "      <td>II</td>\n",
       "      <td>13</td>\n",
       "    </tr>\n",
       "    <tr>\n",
       "      <th>17</th>\n",
       "      <td>61-80</td>\n",
       "      <td>III</td>\n",
       "      <td>4</td>\n",
       "    </tr>\n",
       "    <tr>\n",
       "      <th>18</th>\n",
       "      <td>61-80</td>\n",
       "      <td>IVA</td>\n",
       "      <td>3</td>\n",
       "    </tr>\n",
       "    <tr>\n",
       "      <th>19</th>\n",
       "      <td>61-80</td>\n",
       "      <td>IVB</td>\n",
       "      <td>9</td>\n",
       "    </tr>\n",
       "    <tr>\n",
       "      <th>20</th>\n",
       "      <td>81-100</td>\n",
       "      <td>I</td>\n",
       "      <td>0</td>\n",
       "    </tr>\n",
       "    <tr>\n",
       "      <th>21</th>\n",
       "      <td>81-100</td>\n",
       "      <td>II</td>\n",
       "      <td>2</td>\n",
       "    </tr>\n",
       "    <tr>\n",
       "      <th>22</th>\n",
       "      <td>81-100</td>\n",
       "      <td>III</td>\n",
       "      <td>0</td>\n",
       "    </tr>\n",
       "    <tr>\n",
       "      <th>23</th>\n",
       "      <td>81-100</td>\n",
       "      <td>IVA</td>\n",
       "      <td>0</td>\n",
       "    </tr>\n",
       "    <tr>\n",
       "      <th>24</th>\n",
       "      <td>81-100</td>\n",
       "      <td>IVB</td>\n",
       "      <td>1</td>\n",
       "    </tr>\n",
       "  </tbody>\n",
       "</table>\n",
       "</div>"
      ],
      "text/plain": [
       "   Age Group Stage  Count\n",
       "0       0-20     I     13\n",
       "1       0-20    II      0\n",
       "2       0-20   III      0\n",
       "3       0-20   IVA      0\n",
       "4       0-20   IVB      0\n",
       "5      21-40     I    203\n",
       "6      21-40    II      4\n",
       "7      21-40   III      0\n",
       "8      21-40   IVA      0\n",
       "9      21-40   IVB      0\n",
       "10     41-60     I     97\n",
       "11     41-60    II     13\n",
       "12     41-60   III      0\n",
       "13     41-60   IVA      0\n",
       "14     41-60   IVB      1\n",
       "15     61-80     I     20\n",
       "16     61-80    II     13\n",
       "17     61-80   III      4\n",
       "18     61-80   IVA      3\n",
       "19     61-80   IVB      9\n",
       "20    81-100     I      0\n",
       "21    81-100    II      2\n",
       "22    81-100   III      0\n",
       "23    81-100   IVA      0\n",
       "24    81-100   IVB      1"
      ]
     },
     "execution_count": 40,
     "metadata": {},
     "output_type": "execute_result"
    }
   ],
   "source": [
    "age_group_data = df.groupby(['Age Group', 'Stage'], observed=False).size().reset_index(name='Count')\n",
    "age_group_data\n"
   ]
  },
  {
   "cell_type": "markdown",
   "metadata": {},
   "source": [
    "- Visualisation : The countplot function with hue='Age Group' now shows the distribution of different age groups across cancer stages."
   ]
  },
  {
   "cell_type": "code",
   "execution_count": 35,
   "metadata": {},
   "outputs": [
    {
     "data": {
      "image/png": "[encoded data removed]",
      "text/plain": [
       "<Figure size 1400x800 with 1 Axes>"
      ]
     },
     "metadata": {},
     "output_type": "display_data"
    }
   ],
   "source": [
    "# Data plot \n",
    "\n",
    "plt.figure(figsize=(14, 8))\n",
    "sns.countplot(data=df, x = 'Stage', hue='Age Group')\n",
    "plt.title('Relationship between Cancer Stage and Age Group')\n",
    "plt.xlabel('Cancer Stage')\n",
    "plt.ylabel('Number of Cancer patients')\n",
    "plt.legend(title='Age_Groups')\n",
    "plt.show()"
   ]
  },
  {
   "cell_type": "markdown",
   "metadata": {},
   "source": [
    "This plot will help us see if certain age groups are more prevalent in specific cancer stages, providing insights into any correlation between age and cancer stage.\n",
    "\n",
    "ex : Stage Cancer type I is more prevelant in Age Group 21-40 and 41-60 or Stage III and IVA is prevelant in Age Group 61- 80."
   ]
  },
  {
   "cell_type": "markdown",
   "metadata": {},
   "source": [
    "### Does clinical hyperthyroidism or hypothyroidism affect the treatment response?"
   ]
  },
  {
   "cell_type": "markdown",
   "metadata": {},
   "source": [
    "#### More Questions\n",
    "\n",
    "\n",
    "14. What proportion of patients with micropapillary thyroid carcinoma have indeterminate responses?\n",
    "15. How does the type of goiter (single nodular vs. multinodular) correlate with the risk level of cancer?\n",
    "16. Are there differences in treatment responses between patients with uni-focal and multi-focal cancer?\n",
    "17. What are the trends in cancer stage distribution for different age groups?\n",
    "18. Does the presence of multifocality influence the risk of cancer recurrence?\n",
    "19. What is the frequency of various risk levels across different age groups?\n",
    "20. How does the number of cancer foci (uni-focal vs. multi-focal) affect patient outcomes?\n",
    "21. Is there a correlation between clinical hyperthyroidism or hypothyroidism and cancer stage?\n",
    "22. What are the differences in treatment response between patients with different thyroid function statuses?\n",
    "23. How does a history of smoking impact the physical examination findings?\n",
    "24. Are there any notable patterns in the staging of cancer based on the presence or absence of adenopathy?\n",
    "25. Does the presence of multinodular goiter correlate with a higher or lower cancer stage compared to single nodular goiter?\n",
    "26. How does the presence of clinical hyperthyroidism or hypothyroidism correlate with the response to treatment?\n",
    "27. What patterns emerge in the risk levels associated with different cancer stages?\n",
    "28. Is there a significant difference in the frequency of indeterminate responses between different goiter types?\n",
    "29. How does the combination of smoking status and history of radiotherapy impact cancer stage or response?\n",
    "30. Are there any age-related differences in the likelihood of cancer recurrence?"
   ]
  }
 ],
 "metadata": {
  "kernelspec": {
   "display_name": "base",
   "language": "python",
   "name": "python3"
  },
  "language_info": {
   "codemirror_mode": {
    "name": "ipython",
    "version": 3
   },
   "file_extension": ".py",
   "mimetype": "text/x-python",
   "name": "python",
   "nbconvert_exporter": "python",
   "pygments_lexer": "ipython3",
   "version": "3.12.2"
  }
 },
 "nbformat": 4,
 "nbformat_minor": 2
}
