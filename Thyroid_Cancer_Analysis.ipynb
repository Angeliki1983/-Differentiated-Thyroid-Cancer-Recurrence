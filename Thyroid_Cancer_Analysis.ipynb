{
 "cells": [
  {
   "cell_type": "markdown",
   "metadata": {},
   "source": [
    "Many thanks to Shiva Borzooei and Aidin Tarokhian from Hamadan University of medical Sciences, who provided this datase .All information you can find at Shiva Borzooei\n",
    "\n",
    "https://archive.ics.uci.edu/dataset/915/differentiated+thyroid+cancer+recurrence\n",
    "\n",
    "Using this .csv file as part of my learning journey using Python for Data Analysis.\n",
    "\n"
   ]
  },
  {
   "cell_type": "code",
   "execution_count": 3,
   "metadata": {},
   "outputs": [],
   "source": [
    "import pandas as pd   \n",
    "import numpy as np\n"
   ]
  },
  {
   "cell_type": "markdown",
   "metadata": {},
   "source": [
    "Lets import the csv.file :"
   ]
  },
  {
   "cell_type": "code",
   "execution_count": 4,
   "metadata": {},
   "outputs": [
    {
     "data": {
      "text/html": [
       "<div>\n",
       "<style scoped>\n",
       "    .dataframe tbody tr th:only-of-type {\n",
       "        vertical-align: middle;\n",
       "    }\n",
       "\n",
       "    .dataframe tbody tr th {\n",
       "        vertical-align: top;\n",
       "    }\n",
       "\n",
       "    .dataframe thead th {\n",
       "        text-align: right;\n",
       "    }\n",
       "</style>\n",
       "<table border=\"1\" class=\"dataframe\">\n",
       "  <thead>\n",
       "    <tr style=\"text-align: right;\">\n",
       "      <th></th>\n",
       "      <th>Age</th>\n",
       "      <th>Gender</th>\n",
       "      <th>Smoking</th>\n",
       "      <th>Hx Smoking</th>\n",
       "      <th>Hx Radiothreapy</th>\n",
       "      <th>Thyroid Function</th>\n",
       "      <th>Physical Examination</th>\n",
       "      <th>Adenopathy</th>\n",
       "      <th>Pathology</th>\n",
       "      <th>Focality</th>\n",
       "      <th>Risk</th>\n",
       "      <th>T</th>\n",
       "      <th>N</th>\n",
       "      <th>M</th>\n",
       "      <th>Stage</th>\n",
       "      <th>Response</th>\n",
       "      <th>Recurred</th>\n",
       "    </tr>\n",
       "  </thead>\n",
       "  <tbody>\n",
       "    <tr>\n",
       "      <th>0</th>\n",
       "      <td>27</td>\n",
       "      <td>F</td>\n",
       "      <td>No</td>\n",
       "      <td>No</td>\n",
       "      <td>No</td>\n",
       "      <td>Euthyroid</td>\n",
       "      <td>Single nodular goiter-left</td>\n",
       "      <td>No</td>\n",
       "      <td>Micropapillary</td>\n",
       "      <td>Uni-Focal</td>\n",
       "      <td>Low</td>\n",
       "      <td>T1a</td>\n",
       "      <td>N0</td>\n",
       "      <td>M0</td>\n",
       "      <td>I</td>\n",
       "      <td>Indeterminate</td>\n",
       "      <td>No</td>\n",
       "    </tr>\n",
       "    <tr>\n",
       "      <th>1</th>\n",
       "      <td>34</td>\n",
       "      <td>F</td>\n",
       "      <td>No</td>\n",
       "      <td>Yes</td>\n",
       "      <td>No</td>\n",
       "      <td>Euthyroid</td>\n",
       "      <td>Multinodular goiter</td>\n",
       "      <td>No</td>\n",
       "      <td>Micropapillary</td>\n",
       "      <td>Uni-Focal</td>\n",
       "      <td>Low</td>\n",
       "      <td>T1a</td>\n",
       "      <td>N0</td>\n",
       "      <td>M0</td>\n",
       "      <td>I</td>\n",
       "      <td>Excellent</td>\n",
       "      <td>No</td>\n",
       "    </tr>\n",
       "    <tr>\n",
       "      <th>2</th>\n",
       "      <td>30</td>\n",
       "      <td>F</td>\n",
       "      <td>No</td>\n",
       "      <td>No</td>\n",
       "      <td>No</td>\n",
       "      <td>Euthyroid</td>\n",
       "      <td>Single nodular goiter-right</td>\n",
       "      <td>No</td>\n",
       "      <td>Micropapillary</td>\n",
       "      <td>Uni-Focal</td>\n",
       "      <td>Low</td>\n",
       "      <td>T1a</td>\n",
       "      <td>N0</td>\n",
       "      <td>M0</td>\n",
       "      <td>I</td>\n",
       "      <td>Excellent</td>\n",
       "      <td>No</td>\n",
       "    </tr>\n",
       "    <tr>\n",
       "      <th>3</th>\n",
       "      <td>62</td>\n",
       "      <td>F</td>\n",
       "      <td>No</td>\n",
       "      <td>No</td>\n",
       "      <td>No</td>\n",
       "      <td>Euthyroid</td>\n",
       "      <td>Single nodular goiter-right</td>\n",
       "      <td>No</td>\n",
       "      <td>Micropapillary</td>\n",
       "      <td>Uni-Focal</td>\n",
       "      <td>Low</td>\n",
       "      <td>T1a</td>\n",
       "      <td>N0</td>\n",
       "      <td>M0</td>\n",
       "      <td>I</td>\n",
       "      <td>Excellent</td>\n",
       "      <td>No</td>\n",
       "    </tr>\n",
       "    <tr>\n",
       "      <th>4</th>\n",
       "      <td>62</td>\n",
       "      <td>F</td>\n",
       "      <td>No</td>\n",
       "      <td>No</td>\n",
       "      <td>No</td>\n",
       "      <td>Euthyroid</td>\n",
       "      <td>Multinodular goiter</td>\n",
       "      <td>No</td>\n",
       "      <td>Micropapillary</td>\n",
       "      <td>Multi-Focal</td>\n",
       "      <td>Low</td>\n",
       "      <td>T1a</td>\n",
       "      <td>N0</td>\n",
       "      <td>M0</td>\n",
       "      <td>I</td>\n",
       "      <td>Excellent</td>\n",
       "      <td>No</td>\n",
       "    </tr>\n",
       "  </tbody>\n",
       "</table>\n",
       "</div>"
      ],
      "text/plain": [
       "   Age Gender Smoking Hx Smoking Hx Radiothreapy Thyroid Function  \\\n",
       "0   27      F      No         No              No        Euthyroid   \n",
       "1   34      F      No        Yes              No        Euthyroid   \n",
       "2   30      F      No         No              No        Euthyroid   \n",
       "3   62      F      No         No              No        Euthyroid   \n",
       "4   62      F      No         No              No        Euthyroid   \n",
       "\n",
       "          Physical Examination Adenopathy       Pathology     Focality Risk  \\\n",
       "0   Single nodular goiter-left         No  Micropapillary    Uni-Focal  Low   \n",
       "1          Multinodular goiter         No  Micropapillary    Uni-Focal  Low   \n",
       "2  Single nodular goiter-right         No  Micropapillary    Uni-Focal  Low   \n",
       "3  Single nodular goiter-right         No  Micropapillary    Uni-Focal  Low   \n",
       "4          Multinodular goiter         No  Micropapillary  Multi-Focal  Low   \n",
       "\n",
       "     T   N   M Stage       Response Recurred  \n",
       "0  T1a  N0  M0     I  Indeterminate       No  \n",
       "1  T1a  N0  M0     I      Excellent       No  \n",
       "2  T1a  N0  M0     I      Excellent       No  \n",
       "3  T1a  N0  M0     I      Excellent       No  \n",
       "4  T1a  N0  M0     I      Excellent       No  "
      ]
     },
     "execution_count": 4,
     "metadata": {},
     "output_type": "execute_result"
    }
   ],
   "source": [
    "\n",
    "# Corrected file path with .csv extension\n",
    "filepath = r\"C:\\Users\\User\\OneDrive\\Desktop\\Thyroid_Cancer_Analysis\\Thyroid_Diff.csv\"\n",
    "\n",
    "# Use the variable 'filepath' to read the CSV file\n",
    "df = pd.read_csv(filepath)\n",
    "\n",
    "# Display the first few rows of the DataFrame\n",
    "df.head(5)\n"
   ]
  },
  {
   "cell_type": "markdown",
   "metadata": {},
   "source": [
    "#### QUESTIONS \n",
    "1. What is the distribution of ages among patients?\n",
    "1. Does age correlate with the stage of thyroid cancer?\n",
    "2. Is there any significant difference in cancer risk between male and female patients?\n",
    "3. How does smoking status affect the likelihood of different stages of thyroid cancer?\n",
    "4. Does a history of smoking impact the response to treatment?\n",
    "5. Is there a relationship between history of radiotherapy and cancer stage or type?\n",
    "6. How does thyroid function (euthyroid, hyperthyroid, hypothyroid) relate to the risk and stage of cancer?\n",
    "7. What is the frequency of single nodular goiter versus multinodular goiter among patients?\n",
    "8. Does the focality of the cancer (uni-focal vs. multi-focal) impact the stage or prognosis?\n",
    "9. Are there any patterns in pathology findings based on age or gender?\n",
    "10. How does the presence of adenopathy influence the stage of cancer?\n"
   ]
  },
  {
   "cell_type": "markdown",
   "metadata": {},
   "source": [
    "#### 1. What is the distribution of ages among patients? "
   ]
  },
  {
   "cell_type": "markdown",
   "metadata": {},
   "source": [
    "Here we need to understand how the ages of the patients are spead out or distributed. Are most of the patients young , middle aged or older? Are the ages spread out evenly or clustered in specific age ranges?\n",
    "\n",
    "1. First, we need to identify the Age data, as in the column that contains the age information and the extract the Age Data."
   ]
  },
  {
   "cell_type": "code",
   "execution_count": 5,
   "metadata": {},
   "outputs": [
    {
     "data": {
      "text/plain": [
       "0      27\n",
       "1      34\n",
       "2      30\n",
       "3      62\n",
       "4      62\n",
       "       ..\n",
       "378    72\n",
       "379    81\n",
       "380    72\n",
       "381    61\n",
       "382    67\n",
       "Name: Age, Length: 383, dtype: int64"
      ]
     },
     "execution_count": 5,
     "metadata": {},
     "output_type": "execute_result"
    }
   ],
   "source": [
    "# Extracting \"Age\" column :\n",
    "ages = df['Age']\n",
    "ages "
   ]
  },
  {
   "cell_type": "markdown",
   "metadata": {},
   "source": [
    "2. (Step a) We can use the value_counts() function to get the frequency of each age:"
   ]
  },
  {
   "cell_type": "code",
   "execution_count": 6,
   "metadata": {},
   "outputs": [],
   "source": [
    "age_counts = ages.value_counts()"
   ]
  },
  {
   "cell_type": "code",
   "execution_count": 10,
   "metadata": {},
   "outputs": [
    {
     "name": "stdout",
     "output_type": "stream",
     "text": [
      "Age\n",
      "31    22\n",
      "27    13\n",
      "40    12\n",
      "26    12\n",
      "28    12\n",
      "      ..\n",
      "79     1\n",
      "18     1\n",
      "69     1\n",
      "76     1\n",
      "78     1\n",
      "Name: count, Length: 65, dtype: int64\n"
     ]
    }
   ],
   "source": [
    "print(age_counts)"
   ]
  },
  {
   "cell_type": "markdown",
   "metadata": {},
   "source": [
    "2. (Step b) Basic Statistics Calculation "
   ]
  },
  {
   "cell_type": "code",
   "execution_count": 17,
   "metadata": {},
   "outputs": [
    {
     "name": "stdout",
     "output_type": "stream",
     "text": [
      "Minimum age is: 15\n",
      "Maximum age is: 82\n",
      "Max age is: 40.866840731070496\n",
      "Median age is: 37.0\n",
      "Mode age is: 31\n"
     ]
    }
   ],
   "source": [
    "min_age = ages.min()\n",
    "max_age = ages.max()\n",
    "mean_age = ages.mean()\n",
    "median_age = ages.median()\n",
    "mode_age = ages.mode()[0] # Mode returns a series, so we take the first element-->The most frequent set in our DataBase\n",
    "\n",
    "print(f\"Minimum age is: {min_age}\")\n",
    "print(f\"Maximum age is: {max_age}\")\n",
    "print(f\"Max age is: {mean_age}\")\n",
    "print(f\"Median age is: {median_age}\")\n",
    "print(f\"Mode age is: {mode_age}\")\n"
   ]
  },
  {
   "cell_type": "markdown",
   "metadata": {},
   "source": [
    "Learned/Notes :\n",
    "- Mode(): is the value that appears more frequently in a dataset and a dataset can have more than one mode if multiple values have the same highest frequency.\n",
    "- The output gives us Series object. If there is more than one mode, this Series will contain all modes.\n",
    "- Since mode() returns a Series, we need to access the first element to get the most common value. This is done using [0]."
   ]
  },
  {
   "cell_type": "markdown",
   "metadata": {},
   "source": [
    "2. (Step C) Creating a bar chart for age distribution"
   ]
  },
  {
   "cell_type": "markdown",
   "metadata": {},
   "source": [
    "First Lets ensure we have matplotlib installed"
   ]
  },
  {
   "cell_type": "code",
   "execution_count": null,
   "metadata": {},
   "outputs": [],
   "source": []
  },
  {
   "cell_type": "markdown",
   "metadata": {},
   "source": []
  },
  {
   "cell_type": "markdown",
   "metadata": {},
   "source": [
    "#### More Questions\n",
    "\n",
    "12. What is the relationship between physical examination findings and cancer stage or risk?\n",
    "13. Does clinical hyperthyroidism or hypothyroidism affect the treatment response?\n",
    "14. What proportion of patients with micropapillary thyroid carcinoma have indeterminate responses?\n",
    "15. How does the type of goiter (single nodular vs. multinodular) correlate with the risk level of cancer?\n",
    "16. Are there differences in treatment responses between patients with uni-focal and multi-focal cancer?\n",
    "17. What are the trends in cancer stage distribution for different age groups?\n",
    "18. Does the presence of multifocality influence the risk of cancer recurrence?\n",
    "19. What is the frequency of various risk levels across different age groups?\n",
    "20. How does the number of cancer foci (uni-focal vs. multi-focal) affect patient outcomes?\n",
    "21. Is there a correlation between clinical hyperthyroidism or hypothyroidism and cancer stage?\n",
    "22. What are the differences in treatment response between patients with different thyroid function statuses?\n",
    "23. How does a history of smoking impact the physical examination findings?\n",
    "24. Are there any notable patterns in the staging of cancer based on the presence or absence of adenopathy?\n",
    "25. Does the presence of multinodular goiter correlate with a higher or lower cancer stage compared to single nodular goiter?\n",
    "26. How does the presence of clinical hyperthyroidism or hypothyroidism correlate with the response to treatment?\n",
    "27. What patterns emerge in the risk levels associated with different cancer stages?\n",
    "28. Is there a significant difference in the frequency of indeterminate responses between different goiter types?\n",
    "29. How does the combination of smoking status and history of radiotherapy impact cancer stage or response?\n",
    "30. Are there any age-related differences in the likelihood of cancer recurrence?"
   ]
  },
  {
   "cell_type": "code",
   "execution_count": null,
   "metadata": {},
   "outputs": [],
   "source": []
  },
  {
   "cell_type": "markdown",
   "metadata": {},
   "source": []
  },
  {
   "cell_type": "code",
   "execution_count": null,
   "metadata": {},
   "outputs": [],
   "source": []
  },
  {
   "cell_type": "markdown",
   "metadata": {},
   "source": []
  },
  {
   "cell_type": "code",
   "execution_count": null,
   "metadata": {},
   "outputs": [],
   "source": []
  },
  {
   "cell_type": "markdown",
   "metadata": {},
   "source": []
  },
  {
   "cell_type": "code",
   "execution_count": null,
   "metadata": {},
   "outputs": [],
   "source": []
  },
  {
   "cell_type": "markdown",
   "metadata": {},
   "source": []
  },
  {
   "cell_type": "code",
   "execution_count": null,
   "metadata": {},
   "outputs": [],
   "source": []
  },
  {
   "cell_type": "code",
   "execution_count": null,
   "metadata": {},
   "outputs": [],
   "source": []
  }
 ],
 "metadata": {
  "kernelspec": {
   "display_name": "base",
   "language": "python",
   "name": "python3"
  },
  "language_info": {
   "codemirror_mode": {
    "name": "ipython",
    "version": 3
   },
   "file_extension": ".py",
   "mimetype": "text/x-python",
   "name": "python",
   "nbconvert_exporter": "python",
   "pygments_lexer": "ipython3",
   "version": "3.12.2"
  }
 },
 "nbformat": 4,
 "nbformat_minor": 2
}
